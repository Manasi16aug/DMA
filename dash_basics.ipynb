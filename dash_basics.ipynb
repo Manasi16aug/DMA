{
 "cells": [
  {
   "cell_type": "code",
   "execution_count": 1,
   "id": "549119ca",
   "metadata": {},
   "outputs": [
    {
     "name": "stdout",
     "output_type": "stream",
     "text": [
      "Requirement already satisfied: plotly in c:\\users\\mansi\\anaconda3\\lib\\site-packages (5.24.1)\n",
      "Requirement already satisfied: packaging in c:\\users\\mansi\\anaconda3\\lib\\site-packages (from plotly) (21.0)\n",
      "Requirement already satisfied: tenacity>=6.2.0 in c:\\users\\mansi\\anaconda3\\lib\\site-packages (from plotly) (9.0.0)\n",
      "Requirement already satisfied: pyparsing>=2.0.2 in c:\\users\\mansi\\anaconda3\\lib\\site-packages (from packaging->plotly) (3.0.4)\n"
     ]
    }
   ],
   "source": [
    "!pip install plotly\n"
   ]
  },
  {
   "cell_type": "code",
   "execution_count": 3,
   "id": "695b970a",
   "metadata": {},
   "outputs": [
    {
     "name": "stdout",
     "output_type": "stream",
     "text": [
      "Requirement already satisfied: dash in c:\\users\\mansi\\anaconda3\\lib\\site-packages (2.18.2)\n",
      "Requirement already satisfied: dash-table==5.0.0 in c:\\users\\mansi\\anaconda3\\lib\\site-packages (from dash) (5.0.0)\n",
      "Requirement already satisfied: typing-extensions>=4.1.1 in c:\\users\\mansi\\anaconda3\\lib\\site-packages (from dash) (4.12.2)\n",
      "Requirement already satisfied: dash-core-components==2.0.0 in c:\\users\\mansi\\anaconda3\\lib\\site-packages (from dash) (2.0.0)\n",
      "Requirement already satisfied: plotly>=5.0.0 in c:\\users\\mansi\\anaconda3\\lib\\site-packages (from dash) (5.24.1)\n",
      "Requirement already satisfied: retrying in c:\\users\\mansi\\anaconda3\\lib\\site-packages (from dash) (1.3.4)\n",
      "Requirement already satisfied: Flask<3.1,>=1.0.4 in c:\\users\\mansi\\anaconda3\\lib\\site-packages (from dash) (1.1.2)\n",
      "Requirement already satisfied: importlib-metadata in c:\\users\\mansi\\anaconda3\\lib\\site-packages (from dash) (4.8.1)\n",
      "Requirement already satisfied: requests in c:\\users\\mansi\\anaconda3\\lib\\site-packages (from dash) (2.26.0)\n",
      "Requirement already satisfied: Werkzeug<3.1 in c:\\users\\mansi\\anaconda3\\lib\\site-packages (from dash) (2.0.2)\n",
      "Requirement already satisfied: dash-html-components==2.0.0 in c:\\users\\mansi\\anaconda3\\lib\\site-packages (from dash) (2.0.0)\n",
      "Requirement already satisfied: setuptools in c:\\users\\mansi\\anaconda3\\lib\\site-packages (from dash) (58.0.4)\n",
      "Requirement already satisfied: nest-asyncio in c:\\users\\mansi\\anaconda3\\lib\\site-packages (from dash) (1.5.1)\n",
      "Requirement already satisfied: click>=5.1 in c:\\users\\mansi\\anaconda3\\lib\\site-packages (from Flask<3.1,>=1.0.4->dash) (8.0.3)\n",
      "Requirement already satisfied: Jinja2>=2.10.1 in c:\\users\\mansi\\anaconda3\\lib\\site-packages (from Flask<3.1,>=1.0.4->dash) (2.11.3)\n",
      "Requirement already satisfied: itsdangerous>=0.24 in c:\\users\\mansi\\anaconda3\\lib\\site-packages (from Flask<3.1,>=1.0.4->dash) (2.0.1)\n",
      "Requirement already satisfied: colorama in c:\\users\\mansi\\anaconda3\\lib\\site-packages (from click>=5.1->Flask<3.1,>=1.0.4->dash) (0.4.4)\n",
      "Requirement already satisfied: MarkupSafe>=0.23 in c:\\users\\mansi\\anaconda3\\lib\\site-packages (from Jinja2>=2.10.1->Flask<3.1,>=1.0.4->dash) (1.1.1)\n",
      "Requirement already satisfied: packaging in c:\\users\\mansi\\anaconda3\\lib\\site-packages (from plotly>=5.0.0->dash) (21.0)\n",
      "Requirement already satisfied: tenacity>=6.2.0 in c:\\users\\mansi\\anaconda3\\lib\\site-packages (from plotly>=5.0.0->dash) (9.0.0)\n",
      "Requirement already satisfied: zipp>=0.5 in c:\\users\\mansi\\anaconda3\\lib\\site-packages (from importlib-metadata->dash) (3.6.0)\n",
      "Requirement already satisfied: pyparsing>=2.0.2 in c:\\users\\mansi\\anaconda3\\lib\\site-packages (from packaging->plotly>=5.0.0->dash) (3.0.4)\n",
      "Requirement already satisfied: idna<4,>=2.5 in c:\\users\\mansi\\anaconda3\\lib\\site-packages (from requests->dash) (3.2)\n",
      "Requirement already satisfied: urllib3<1.27,>=1.21.1 in c:\\users\\mansi\\anaconda3\\lib\\site-packages (from requests->dash) (1.26.7)\n",
      "Requirement already satisfied: charset-normalizer~=2.0.0 in c:\\users\\mansi\\anaconda3\\lib\\site-packages (from requests->dash) (2.0.4)\n",
      "Requirement already satisfied: certifi>=2017.4.17 in c:\\users\\mansi\\anaconda3\\lib\\site-packages (from requests->dash) (2021.10.8)\n",
      "Requirement already satisfied: six>=1.7.0 in c:\\users\\mansi\\anaconda3\\lib\\site-packages (from retrying->dash) (1.16.0)\n"
     ]
    }
   ],
   "source": [
    "!pip install dash\n"
   ]
  },
  {
   "cell_type": "code",
   "execution_count": 4,
   "id": "e874aef5",
   "metadata": {},
   "outputs": [],
   "source": [
    "# Import required packages\n",
    "import pandas as pd\n",
    "import plotly.express as px\n",
    "import dash\n",
    "import dash_html_components as html\n",
    "import dash_core_components as dcc"
   ]
  },
  {
   "cell_type": "code",
   "execution_count": 5,
   "id": "7cf815f4",
   "metadata": {},
   "outputs": [],
   "source": [
    "# Read the airline data into pandas dataframe\n",
    "airline_data =  pd.read_csv('https://cf-courses-data.s3.us.cloud-object-storage.appdomain.cloud/IBMDeveloperSkillsNetwork-DV0101EN-SkillsNetwork/Data%20Files/airline_data.csv', \n",
    "                            encoding = \"ISO-8859-1\",\n",
    "                            dtype={'Div1Airport': str, 'Div1TailNum': str, \n",
    "                                   'Div2Airport': str, 'Div2TailNum': str})\n"
   ]
  },
  {
   "cell_type": "code",
   "execution_count": 6,
   "id": "00c06104",
   "metadata": {},
   "outputs": [],
   "source": [
    "# Randomly sample 500 data points. Setting the random state to be 42 so that we get same result.\n",
    "data = airline_data.sample(n=500, random_state=42)\n"
   ]
  },
  {
   "cell_type": "code",
   "execution_count": 7,
   "id": "d0248cce",
   "metadata": {},
   "outputs": [],
   "source": [
    "# Pie Chart Creation\n",
    "fig = px.pie(data, values='Flights', names='DistanceGroup', title='Distance group proportion by flights')"
   ]
  },
  {
   "cell_type": "code",
   "execution_count": 8,
   "id": "73db5c17",
   "metadata": {},
   "outputs": [],
   "source": [
    "# Create a dash application\n",
    "app = dash.Dash(__name__)"
   ]
  },
  {
   "cell_type": "code",
   "execution_count": 12,
   "id": "28c6c406",
   "metadata": {},
   "outputs": [],
   "source": [
    "# Get the layout of the application and adjust it.\n",
    "# Create an outer division using html.Div and add title to the dashboard using html.H1 component\n",
    "# Add description about the graph using HTML P (paragraph) component\n",
    "# Finally, add graph component.\n",
    "app.layout = html.Div(children=[\n",
    "    html.H1(\n",
    "        'Airline Dashboard',\n",
    "        style={'textAlign': 'center', 'color': '#503D36', 'font-size': 40}\n",
    "    ),\n",
    "    html.P(\n",
    "        'Proportion of distance group (250 mile distance interval group) by flights.',\n",
    "        style={'textAlign': 'center', 'color': '#F57241'}\n",
    "    ),\n",
    "    dcc.Graph(figure=fig)  # Ensure this line is properly closed\n",
    "])  # Properly close the children list here\n"
   ]
  },
  {
   "cell_type": "code",
   "execution_count": 13,
   "id": "f6ce758a",
   "metadata": {},
   "outputs": [
    {
     "data": {
      "text/html": [
       "\n",
       "        <iframe\n",
       "            width=\"100%\"\n",
       "            height=\"650\"\n",
       "            src=\"http://127.0.0.1:8050/\"\n",
       "            frameborder=\"0\"\n",
       "            allowfullscreen\n",
       "            \n",
       "        ></iframe>\n",
       "        "
      ],
      "text/plain": [
       "<IPython.lib.display.IFrame at 0x1fb2b4c76a0>"
      ]
     },
     "metadata": {},
     "output_type": "display_data"
    }
   ],
   "source": [
    "# Run the application                   \n",
    "if __name__ == '__main__':\n",
    "    app.run_server()"
   ]
  },
  {
   "cell_type": "code",
   "execution_count": null,
   "id": "99228fa8",
   "metadata": {},
   "outputs": [],
   "source": []
  }
 ],
 "metadata": {
  "kernelspec": {
   "display_name": "Python 3 (ipykernel)",
   "language": "python",
   "name": "python3"
  },
  "language_info": {
   "codemirror_mode": {
    "name": "ipython",
    "version": 3
   },
   "file_extension": ".py",
   "mimetype": "text/x-python",
   "name": "python",
   "nbconvert_exporter": "python",
   "pygments_lexer": "ipython3",
   "version": "3.9.7"
  }
 },
 "nbformat": 4,
 "nbformat_minor": 5
}
